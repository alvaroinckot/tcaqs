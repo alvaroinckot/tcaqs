{
 "cells": [
  {
   "cell_type": "code",
   "execution_count": 1,
   "id": "85a0a087",
   "metadata": {},
   "outputs": [],
   "source": [
    "from bs4 import BeautifulSoup as beauty\n",
    "import cloudscraper\n",
    "from urllib.parse import urlparse\n",
    "from urllib.parse import parse_qs"
   ]
  },
  {
   "cell_type": "code",
   "execution_count": 7,
   "id": "63c3201e",
   "metadata": {},
   "outputs": [],
   "source": [
    "from os.path import exists\n",
    "import time\n",
    "\n",
    "\n",
    "scraper = cloudscraper.create_scraper(delay=15, browser='chrome') \n",
    "\n",
    "def do_the_magic(i):  \n",
    "    \n",
    "    # print(\"start - processing \" + str(i))\n",
    "\n",
    "    file_path = \"/home/alvaro/scrap/\" + str(i) + \".html\"\n",
    "    if exists(file_path):\n",
    "        # print(\"skiping - file already exists for \" + str(i))\n",
    "        return\n",
    "\n",
    "    retry_count = 0\n",
    "\n",
    "    time.sleep(1)\n",
    "    while(True):\n",
    "        url_base = 'https://www.tibia.com/charactertrade/?subtopic=pastcharactertrades&page=details&auctionid=' \n",
    "        url = url_base + str(i)\n",
    "        info = scraper.get(url).text\n",
    "\n",
    "        if \"An internal error has occurred. Please try again later!\" in info:\n",
    "            #print(\"skiping - id not found for \" + str(i))\n",
    "            break\n",
    "\n",
    "\n",
    "        if \"403 Forbidden\" in info:\n",
    "            # print(\"retry - forbiden for \" + str(i))\n",
    "            if retry_count <= 4:\n",
    "                retry_count += 1\n",
    "                time.sleep(2)\n",
    "                continue\n",
    "            else:\n",
    "                # print('retry - count exceeded for ' + str(i))\n",
    "                retry_count = 0\n",
    "                f = open('/home/alvaro/failed5.txt', \"a\")\n",
    "                f.write(str(i) + '\\n')\n",
    "                f.close()\n",
    "                break\n",
    "\n",
    "        retry_count = 0\n",
    "        # print('success - saving for ' + str(i))\n",
    "        f = open(file_path, \"w+\")\n",
    "        f.write(info)\n",
    "        f.close()\n",
    "        break\n",
    "    "
   ]
  },
  {
   "cell_type": "code",
   "execution_count": 3,
   "id": "0df0e6c5",
   "metadata": {},
   "outputs": [
    {
     "name": "stderr",
     "output_type": "stream",
     "text": [
      "100%|███████████████████████████████████| 15610/15610 [1:14:19<00:00,  3.50it/s]\n"
     ]
    }
   ],
   "source": [
    "from multiprocessing import Pool\n",
    "import tqdm\n",
    "import os\n",
    "\n",
    "last_id=970000\n",
    "\n",
    "pool = Pool(3)\n",
    "\n",
    "results = [x for x in tqdm.tqdm(pool.imap_unordered(\n",
    "        do_the_magic,reversed(range(954390, int(last_id)))), total=last_id-954390)]\n",
    "\n",
    "pool.close()\n",
    "pool.join()\n",
    "   "
   ]
  },
  {
   "cell_type": "code",
   "execution_count": null,
   "id": "e8fde750",
   "metadata": {},
   "outputs": [],
   "source": [
    "\n",
    "   "
   ]
  },
  {
   "cell_type": "code",
   "execution_count": 8,
   "id": "52f2f472",
   "metadata": {},
   "outputs": [
    {
     "ename": "FileNotFoundError",
     "evalue": "[Errno 2] No such file or directory: '/home/alvaro/failed4.txt'",
     "output_type": "error",
     "traceback": [
      "\u001b[0;31m---------------------------------------------------------------------------\u001b[0m",
      "\u001b[0;31mFileNotFoundError\u001b[0m                         Traceback (most recent call last)",
      "Input \u001b[0;32mIn [8]\u001b[0m, in \u001b[0;36m<cell line: 1>\u001b[0;34m()\u001b[0m\n\u001b[0;32m----> 1\u001b[0m \u001b[38;5;28;01mwith\u001b[39;00m \u001b[38;5;28;43mopen\u001b[39;49m\u001b[43m(\u001b[49m\u001b[38;5;124;43m'\u001b[39;49m\u001b[38;5;124;43m/home/alvaro/failed4.txt\u001b[39;49m\u001b[38;5;124;43m'\u001b[39;49m\u001b[43m)\u001b[49m \u001b[38;5;28;01mas\u001b[39;00m f:\n\u001b[1;32m      2\u001b[0m     lines \u001b[38;5;241m=\u001b[39m [line\u001b[38;5;241m.\u001b[39mstrip() \u001b[38;5;28;01mfor\u001b[39;00m line \u001b[38;5;129;01min\u001b[39;00m f]\n\u001b[1;32m      4\u001b[0m lines_int \u001b[38;5;241m=\u001b[39m []\n",
      "\u001b[0;31mFileNotFoundError\u001b[0m: [Errno 2] No such file or directory: '/home/alvaro/failed4.txt'"
     ]
    }
   ],
   "source": [
    "\n",
    "with open('/home/alvaro/failed4.txt') as f:\n",
    "    lines = [line.strip() for line in f]\n",
    "\n",
    "lines_int = []\n",
    "\n",
    "for i in range(len(lines)):\n",
    "    try:\n",
    "        n = int(lines[i])\n",
    "        lines_int.append(n)\n",
    "    except:\n",
    "        print(i)\n",
    "\n",
    "        \n",
    "from multiprocessing import Pool\n",
    "import tqdm\n",
    "import os\n",
    "\n",
    "pool = Pool(3)\n",
    "\n",
    "    \n",
    "results = [x for x in tqdm.tqdm(pool.imap_unordered(\n",
    "        do_the_magic, lines_int), total=len(lines_int))]\n",
    "\n",
    "pool.close()\n",
    "pool.join()"
   ]
  },
  {
   "cell_type": "code",
   "execution_count": null,
   "id": "7d8c151d",
   "metadata": {},
   "outputs": [],
   "source": []
  }
 ],
 "metadata": {
  "kernelspec": {
   "display_name": "Python 3 (ipykernel)",
   "language": "python",
   "name": "python3"
  },
  "language_info": {
   "codemirror_mode": {
    "name": "ipython",
    "version": 3
   },
   "file_extension": ".py",
   "mimetype": "text/x-python",
   "name": "python",
   "nbconvert_exporter": "python",
   "pygments_lexer": "ipython3",
   "version": "3.10.7"
  }
 },
 "nbformat": 4,
 "nbformat_minor": 5
}
